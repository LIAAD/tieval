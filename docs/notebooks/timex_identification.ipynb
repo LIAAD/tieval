{
 "cells": [
  {
   "cell_type": "markdown",
   "id": "8cd55e74",
   "metadata": {
    "pycharm": {
     "name": "#%% md\n"
    }
   },
   "source": [
    "# Temporal expression identification "
   ]
  },
  {
   "cell_type": "markdown",
   "id": "0824a845",
   "metadata": {
    "pycharm": {
     "name": "#%% md\n"
    }
   },
   "source": [
    "## Data"
   ]
  },
  {
   "cell_type": "markdown",
   "id": "ad6bf81b-7035-4af2-a22f-3981b352b400",
   "metadata": {
    "pycharm": {
     "name": "#%% md\n"
    }
   },
   "source": [
    "Start by downloading dataset."
   ]
  },
  {
   "cell_type": "code",
   "execution_count": 1,
   "id": "14ae437b",
   "metadata": {
    "pycharm": {
     "name": "#%%\n"
    }
   },
   "outputs": [
    {
     "name": "stdout",
     "output_type": "stream",
     "text": [
      "Dataset tempeval_3 was already on data.\n"
     ]
    }
   ],
   "source": [
    "from tieval import datasets\n",
    "datasets.download(\"TempEval_3\")"
   ]
  },
  {
   "cell_type": "code",
   "execution_count": 2,
   "id": "8cad665c",
   "metadata": {
    "pycharm": {
     "name": "#%%\n"
    }
   },
   "outputs": [
    {
     "name": "stderr",
     "output_type": "stream",
     "text": [
      "100%|████████████████████████████████████████| 275/275 [00:00<00:00, 311.13it/s]\n"
     ]
    }
   ],
   "source": [
    "te3 = datasets.read(\"TempEval_3\")"
   ]
  },
  {
   "cell_type": "markdown",
   "id": "2a5c82e8-ee71-4cee-90d9-c9af0991de6c",
   "metadata": {
    "pycharm": {
     "name": "#%% md\n"
    }
   },
   "source": [
    "Some statistics of the corpus:"
   ]
  },
  {
   "cell_type": "code",
   "execution_count": 3,
   "id": "da2be4bc-8bbb-484a-997c-de215303b653",
   "metadata": {
    "pycharm": {
     "name": "#%%\n"
    }
   },
   "outputs": [
    {
     "name": "stdout",
     "output_type": "stream",
     "text": [
      "Number of Documents: 275\n",
      "\n",
      "Train\n",
      "-----\n",
      "Number Documents: 255\n",
      "Number Events: 11028\n",
      "Number Timex: 2065\n",
      "Number TLinks: 10952\n",
      "\n",
      "Test\n",
      "----\n",
      "Number Documents: 20\n",
      "Number Events: 748\n",
      "Number Timex: 158\n",
      "Number TLinks: 929\n"
     ]
    }
   ],
   "source": [
    "print(f\"Number of Documents: {len(te3)}\\n\")\n",
    "\n",
    "n_train_events = 0\n",
    "n_train_timexs = 0\n",
    "n_train_tlinks = 0\n",
    "for doc in te3.train:\n",
    "    n_train_events += len(doc.events)\n",
    "    n_train_timexs += len(doc.timexs)\n",
    "    n_train_tlinks += len(doc.tlinks)\n",
    "    \n",
    "    \n",
    "print(f\"Train\")\n",
    "print(f\"-----\")\n",
    "print(f\"Number Documents: {len(te3.train)}\")\n",
    "print(f\"Number Events: {n_train_events}\")\n",
    "print(f\"Number Timex: {n_train_timexs}\")\n",
    "print(f\"Number TLinks: {n_train_tlinks}\\n\")\n",
    "\n",
    "n_test_events = 0\n",
    "n_test_timexs = 0\n",
    "n_test_tlinks = 0\n",
    "for doc in te3.test:\n",
    "    n_test_events += len(doc.events)\n",
    "    n_test_timexs += len(doc.timexs)\n",
    "    n_test_tlinks += len(doc.tlinks)\n",
    "    \n",
    "    \n",
    "print(f\"Test\")\n",
    "print(f\"----\")\n",
    "print(f\"Number Documents: {len(te3.test)}\")\n",
    "print(f\"Number Events: {n_test_events}\")\n",
    "print(f\"Number Timex: {n_test_timexs}\")\n",
    "print(f\"Number TLinks: {n_test_tlinks}\")"
   ]
  },
  {
   "cell_type": "code",
   "execution_count": 4,
   "id": "3966cdf8-c261-4e76-a8e2-4acfb7597609",
   "metadata": {
    "pycharm": {
     "name": "#%%\n"
    }
   },
   "outputs": [
    {
     "name": "stdout",
     "output_type": "stream",
     "text": [
      "Pacific First Financial Corp. said shareholders approved its acquisition by Royal Trustco Ltd. of Toronto for $27 a share, or $212 million.\n",
      "The thrift holding company said it expects to obtain regulatory approval and complete the transaction by year-end.\n"
     ]
    }
   ],
   "source": [
    "doc = te3[\"wsj_0006\"]  # wsj_0006 is the smalest document of the corpus\n",
    "print(doc)"
   ]
  },
  {
   "cell_type": "code",
   "execution_count": 5,
   "id": "1f1e3702-1867-4e57-b860-1835e11308bd",
   "metadata": {
    "pycharm": {
     "name": "#%%\n"
    }
   },
   "outputs": [
    {
     "name": "stdout",
     "output_type": "stream",
     "text": [
      "Timex(\"year-end\")\n",
      "False\n",
      "year-end\n",
      "(245, 253)\n",
      "-----\n",
      "Timex(\"11/02/89\")\n",
      "True\n",
      "11/02/89\n",
      "None\n",
      "-----\n"
     ]
    }
   ],
   "source": [
    "for timex in doc.timexs:\n",
    "    print(timex)\n",
    "    print(timex.is_dct)  # dct stands for document creation time\n",
    "    print(timex.text)\n",
    "    print(timex.endpoints)\n",
    "    print(\"-----\")"
   ]
  },
  {
   "cell_type": "markdown",
   "id": "137f7018-7a2f-4b2f-ba79-71dee491ba80",
   "metadata": {
    "pycharm": {
     "name": "#%% md\n"
    }
   },
   "source": [
    "## Model"
   ]
  },
  {
   "cell_type": "markdown",
   "id": "e3fc7b26-c01c-420f-a5c1-7cf6ed928848",
   "metadata": {
    "pycharm": {
     "name": "#%% md\n"
    }
   },
   "source": [
    "*tieval* provides pretrained models for temporal expression identificaiton. To access them one needs to import the **models** module."
   ]
  },
  {
   "cell_type": "code",
   "execution_count": 6,
   "id": "4e06ce62-4d2e-4add-9d7e-1b1aa8233f97",
   "metadata": {
    "pycharm": {
     "name": "#%%\n"
    }
   },
   "outputs": [],
   "source": [
    "from tieval import models"
   ]
  },
  {
   "cell_type": "markdown",
   "id": "50f7beeb-0ded-4762-875e-432dbe4da873",
   "metadata": {
    "pycharm": {
     "name": "#%% md\n"
    }
   },
   "source": [
    "To check the avalaible models refer to the documentation. For this demonstration we will use the **TimexIdentificationBaseline** model."
   ]
  },
  {
   "cell_type": "code",
   "execution_count": 15,
   "id": "c66402ab-f80c-4dc6-86c7-97b3afa6c1f8",
   "metadata": {
    "pycharm": {
     "name": "#%%\n"
    }
   },
   "outputs": [
    {
     "name": "stdout",
     "output_type": "stream",
     "text": [
      "[Timex(\"year-end\")]\n"
     ]
    }
   ],
   "source": [
    "model = models.TimexIdentificationBaseline()\n",
    "predictions = model.predict(te3.train)\n",
    "print(predictions[\"wsj_0006\"])"
   ]
  },
  {
   "cell_type": "markdown",
   "id": "2fbe7afd-d2b4-4ff0-87d3-e30a9a17e507",
   "metadata": {
    "pycharm": {
     "name": "#%% md\n"
    }
   },
   "source": [
    "Note that the predicitons ar emissing one of the temporal expressions from the annotation. THis is expected since the missing expression is the documetn publication text, which is part of the document metadata and not of the raw text."
   ]
  },
  {
   "cell_type": "markdown",
   "id": "a69537aa-8fbb-4a38-bf6b-057c707377cf",
   "metadata": {
    "pycharm": {
     "name": "#%% md\n"
    }
   },
   "source": [
    "## Evaluation"
   ]
  },
  {
   "cell_type": "code",
   "execution_count": 16,
   "id": "c3a75531-fefb-41b1-aaad-b5d23cd9759a",
   "metadata": {
    "pycharm": {
     "name": "#%%\n"
    }
   },
   "outputs": [],
   "source": [
    "from tieval import evaluate"
   ]
  },
  {
   "cell_type": "markdown",
   "id": "adfe258b-eefe-4ae6-99d2-4d5a36920df0",
   "metadata": {
    "pycharm": {
     "name": "#%% md\n"
    }
   },
   "source": [
    "On the training set."
   ]
  },
  {
   "cell_type": "code",
   "execution_count": 17,
   "id": "683f60c2-5b58-48ed-b4b0-345a48e3cab4",
   "metadata": {
    "pycharm": {
     "name": "#%%\n"
    }
   },
   "outputs": [
    {
     "name": "stdout",
     "output_type": "stream",
     "text": [
      "|       |    f1 |   precision |   recall |\n",
      "|-------+-------+-------------+----------|\n",
      "| macro | 0.921 |       0.907 |    0.935 |\n",
      "| micro | 0.949 |       0.949 |    0.949 |\n"
     ]
    }
   ],
   "source": [
    "annotations = {doc.name: doc.timexs for doc in te3.train}\n",
    "result = evaluate.timex_identification(annotations, predictions, verbose=True)"
   ]
  },
  {
   "cell_type": "markdown",
   "id": "a43ba79d-e0a0-4669-90a7-8032befb373f",
   "metadata": {
    "pycharm": {
     "name": "#%% md\n"
    }
   },
   "source": [
    "On the test set."
   ]
  },
  {
   "cell_type": "code",
   "execution_count": 18,
   "id": "2d733faa-652a-4451-836f-147416591cdd",
   "metadata": {
    "pycharm": {
     "name": "#%%\n"
    }
   },
   "outputs": [
    {
     "name": "stdout",
     "output_type": "stream",
     "text": [
      "|       |    f1 |   precision |   recall |\n",
      "|-------+-------+-------------+----------|\n",
      "| macro | 0.778 |       0.817 |    0.742 |\n",
      "| micro | 0.746 |       0.746 |    0.746 |\n"
     ]
    }
   ],
   "source": [
    "predictions = model.predict(te3.test)\n",
    "annotations = {doc.name: doc.timexs for doc in te3.test}\n",
    "result = evaluate.timex_identification(annotations, predictions, verbose=True)"
   ]
  }
 ],
 "metadata": {
  "kernelspec": {
   "display_name": "Python 3 (ipykernel)",
   "language": "python",
   "name": "python3"
  },
  "language_info": {
   "codemirror_mode": {
    "name": "ipython",
    "version": 3
   },
   "file_extension": ".py",
   "mimetype": "text/x-python",
   "name": "python",
   "nbconvert_exporter": "python",
   "pygments_lexer": "ipython3",
   "version": "3.8.10"
  }
 },
 "nbformat": 4,
 "nbformat_minor": 5
}