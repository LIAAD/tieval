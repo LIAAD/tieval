{
 "cells": [
  {
   "cell_type": "code",
   "execution_count": null,
   "metadata": {
    "collapsed": true,
    "pycharm": {
     "name": "#%%\n",
     "is_executing": true
    }
   },
   "outputs": [],
   "source": [
    "from pathlib import Path\n",
    "\n",
    "from tieval import datasets, models, evaluate\n",
    "\n",
    "CACHE_PATH = Path(\"cache\")\n",
    "CACHE_PATH.mkdir(exist_ok=True)"
   ]
  },
  {
   "cell_type": "markdown",
   "source": [
    "## Read Data"
   ],
   "metadata": {
    "collapsed": false,
    "pycharm": {
     "name": "#%% md\n"
    }
   }
  },
  {
   "cell_type": "code",
   "execution_count": 3,
   "outputs": [
    {
     "name": "stderr",
     "output_type": "stream",
     "text": [
      "100%|██████████| 20/20 [00:00<00:00, 399.69it/s]\n",
      "100%|██████████| 120/120 [00:00<00:00, 244.11it/s]\n",
      "100%|██████████| 25/25 [00:00<00:00, 310.09it/s]\n"
     ]
    }
   ],
   "source": [
    "te3 = datasets.read(\"platinum\")\n",
    "mt = datasets.read(\"meantime_english\")\n",
    "tcr = datasets.read(\"tcr\")\n",
    "corpora = [te3, tcr, mt]"
   ],
   "metadata": {
    "collapsed": false,
    "pycharm": {
     "name": "#%%\n"
    }
   }
  },
  {
   "cell_type": "markdown",
   "source": [
    "## Load Models"
   ],
   "metadata": {
    "collapsed": false,
    "pycharm": {
     "name": "#%% md\n"
    }
   }
  },
  {
   "cell_type": "code",
   "execution_count": 4,
   "outputs": [],
   "source": [
    "heideltime = models.HeidelTime()\n",
    "timex_base = models.TimexIdentificationBaseline()\n",
    "event_base = models.EventIdentificationBaseline()\n",
    "cogcomp = models.CogCompTime2()"
   ],
   "metadata": {
    "collapsed": false,
    "pycharm": {
     "name": "#%%\n"
    }
   }
  },
  {
   "cell_type": "markdown",
   "source": [
    "### Timex Identification"
   ],
   "metadata": {
    "collapsed": false,
    "pycharm": {
     "name": "#%% md\n"
    }
   }
  },
  {
   "cell_type": "markdown",
   "source": [
    "Load models."
   ],
   "metadata": {
    "collapsed": false,
    "pycharm": {
     "name": "#%% md\n"
    }
   }
  },
  {
   "cell_type": "code",
   "execution_count": 5,
   "outputs": [],
   "source": [
    "heideltime = models.HeidelTime()\n",
    "timex_base = models.TimexIdentificationBaseline()\n",
    "\n",
    "timex_models_identification = [\n",
    "    (\"HeidelTime\", heideltime),\n",
    "    (\"TimexBaseline\", timex_base)\n",
    "]"
   ],
   "metadata": {
    "collapsed": false,
    "pycharm": {
     "name": "#%%\n"
    }
   }
  },
  {
   "cell_type": "code",
   "execution_count": null,
   "outputs": [],
   "source": [
    "for corpus in corpora:\n",
    "    annotations = {doc.name: doc.timexs for doc in corpus.documents}\n",
    "    for model_name, model in timex_models_identification:\n",
    "        predictions = model.predict(corpus.documents)\n",
    "        metrics = evaluate.timex_identification(annotations, predictions)\n",
    "\n",
    "        print()\n",
    "        print(model_name, corpus.name)\n",
    "        print(f'{metrics[\"micro\"][\"precision\"]:.3f} & {metrics[\"micro\"][\"recall\"]:.3f} & {metrics[\"micro\"][\"f1\"]:.3f}')"
   ],
   "metadata": {
    "collapsed": false,
    "pycharm": {
     "name": "#%%\n"
    }
   }
  },
  {
   "cell_type": "markdown",
   "source": [
    "### Event Identification"
   ],
   "metadata": {
    "collapsed": false,
    "pycharm": {
     "name": "#%% md\n"
    }
   }
  },
  {
   "cell_type": "markdown",
   "source": [
    "Load models."
   ],
   "metadata": {
    "collapsed": false,
    "pycharm": {
     "name": "#%% md\n"
    }
   }
  },
  {
   "cell_type": "code",
   "execution_count": 6,
   "outputs": [],
   "source": [
    "event_models_identification = [\n",
    "    (\"EventBaseline\", event_base)\n",
    "]"
   ],
   "metadata": {
    "collapsed": false,
    "pycharm": {
     "name": "#%%\n"
    }
   }
  },
  {
   "cell_type": "code",
   "execution_count": null,
   "outputs": [],
   "source": [
    "for corpus in corpora:\n",
    "    annotations = {doc.name: doc.events for doc in corpus.documents}\n",
    "    for model_name, model in event_models_identification:\n",
    "        predictions = model.predict(corpus.documents)\n",
    "        metrics = evaluate.event_identification(annotations, predictions)\n",
    "\n",
    "        print()\n",
    "        print(model_name, corpus.name)\n",
    "        print(f'{metrics[\"micro\"][\"precision\"]:.3f} & {metrics[\"micro\"][\"recall\"]:.3f} & {metrics[\"micro\"][\"f1\"]:.3f}')"
   ],
   "metadata": {
    "collapsed": false,
    "pycharm": {
     "name": "#%%\n"
    }
   }
  },
  {
   "cell_type": "markdown",
   "source": [
    "### TLink Classification"
   ],
   "metadata": {
    "collapsed": false,
    "pycharm": {
     "name": "#%% md\n"
    }
   }
  },
  {
   "cell_type": "markdown",
   "source": [
    "Load models."
   ],
   "metadata": {
    "collapsed": false,
    "pycharm": {
     "name": "#%% md\n"
    }
   }
  },
  {
   "cell_type": "code",
   "execution_count": 7,
   "outputs": [],
   "source": [
    "tlink_models_identification = [\n",
    "    (\"CogComp\", cogcomp)\n",
    "]"
   ],
   "metadata": {
    "collapsed": false,
    "pycharm": {
     "name": "#%%\n"
    }
   }
  },
  {
   "cell_type": "code",
   "execution_count": null,
   "outputs": [],
   "source": [
    "for corpus in corpora:\n",
    "    annotations = {doc.name: doc.tlinks for doc in corpus.documents}\n",
    "    for model_name, model in tlink_models_identification:\n",
    "        print(model_name, corpus.name)\n",
    "        predictions = model.predict(corpus.documents)\n",
    "        metrics = evaluate.tlink_classification(annotations, predictions)\n",
    "        print(f'{metrics[\"micro\"][\"precision\"]:.3f} & {metrics[\"micro\"][\"recall\"]:.3f} & {metrics[\"micro\"][\"f1\"]:.3f}({metrics[\"micro\"][\"f1\"]:.3f})')\n"
   ],
   "metadata": {
    "collapsed": false,
    "pycharm": {
     "name": "#%%\n"
    }
   }
  }
 ],
 "metadata": {
  "kernelspec": {
   "display_name": "Python 3",
   "language": "python",
   "name": "python3"
  },
  "language_info": {
   "codemirror_mode": {
    "name": "ipython",
    "version": 2
   },
   "file_extension": ".py",
   "mimetype": "text/x-python",
   "name": "python",
   "nbconvert_exporter": "python",
   "pygments_lexer": "ipython2",
   "version": "2.7.6"
  }
 },
 "nbformat": 4,
 "nbformat_minor": 0
}