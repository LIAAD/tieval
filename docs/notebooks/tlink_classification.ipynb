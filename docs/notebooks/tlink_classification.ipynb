{
 "cells": [
  {
   "cell_type": "code",
   "execution_count": 1,
   "id": "8253a572-2fb0-4aeb-a390-84a86e464c19",
   "metadata": {},
   "outputs": [
    {
     "name": "stdout",
     "output_type": "stream",
     "text": [
      "Dataset matres was already on data.\n"
     ]
    }
   ],
   "source": [
    "from tieval import datasets\n",
    "datasets.download(\"MATRES\")"
   ]
  },
  {
   "cell_type": "code",
   "execution_count": 2,
   "id": "36770ccd-461b-4131-b7de-028c662b5a0a",
   "metadata": {},
   "outputs": [
    {
     "name": "stdout",
     "output_type": "stream",
     "text": [
      "Downloading from https://drive.inesctec.pt/s/ebp27ZjfCgDTxwG/download\n",
      "Done.\n"
     ]
    },
    {
     "name": "stderr",
     "output_type": "stream",
     "text": [
      "100%|██████████████████████████████████████████████████████████████████████████████████████████████████████████████████████████████████████████████████| 275/275 [00:00<00:00, 351.84it/s]\n"
     ]
    }
   ],
   "source": [
    "matres = datasets.read(\"MATRES\")"
   ]
  },
  {
   "cell_type": "markdown",
   "id": "cec756ea-d440-4b0a-aa12-caaec03d1a09",
   "metadata": {},
   "source": [
    "# Model"
   ]
  },
  {
   "cell_type": "code",
   "execution_count": 4,
   "id": "31e0cd0d-1092-4d52-a4fd-28be8d0236a0",
   "metadata": {},
   "outputs": [],
   "source": [
    "from tieval import models\n"
   ]
  },
  {
   "cell_type": "code",
   "execution_count": 5,
   "id": "feef53b0-6075-4411-b8cc-92367182dd87",
   "metadata": {},
   "outputs": [
    {
     "ename": "FileNotFoundError",
     "evalue": "[Errno 2] No such file or directory: 'embeddings_0.3_200_1_timelines.txt'",
     "output_type": "error",
     "traceback": [
      "\u001b[0;31m---------------------------------------------------------------------------\u001b[0m",
      "\u001b[0;31mFileNotFoundError\u001b[0m                         Traceback (most recent call last)",
      "Input \u001b[0;32mIn [5]\u001b[0m, in \u001b[0;36m<cell line: 1>\u001b[0;34m()\u001b[0m\n\u001b[0;32m----> 1\u001b[0m cogcomp \u001b[38;5;241m=\u001b[39m \u001b[43mmodels\u001b[49m\u001b[38;5;241;43m.\u001b[39;49m\u001b[43mCogCompTime2\u001b[49m\u001b[43m(\u001b[49m\u001b[43m)\u001b[49m\n",
      "File \u001b[0;32m~/Projects/tieval/tieval/models/classification/temporal_relation/cogcomp2.py:36\u001b[0m, in \u001b[0;36mCogCompTime2.__init__\u001b[0;34m(self)\u001b[0m\n\u001b[1;32m     34\u001b[0m \u001b[38;5;66;03m# Common sense encoder embeddings\u001b[39;00m\n\u001b[1;32m     35\u001b[0m \u001b[38;5;28mself\u001b[39m\u001b[38;5;241m.\u001b[39mcse_vocab \u001b[38;5;241m=\u001b[39m {}\n\u001b[0;32m---> 36\u001b[0m \u001b[38;5;28;01mwith\u001b[39;00m \u001b[38;5;28;43mopen\u001b[39;49m\u001b[43m(\u001b[49m\u001b[43mCSE_EMBEDDINGS_PATH\u001b[49m\u001b[43m)\u001b[49m \u001b[38;5;28;01mas\u001b[39;00m f:\n\u001b[1;32m     37\u001b[0m     lines \u001b[38;5;241m=\u001b[39m f\u001b[38;5;241m.\u001b[39mreadlines()\n\u001b[1;32m     38\u001b[0m     \u001b[38;5;28;01mfor\u001b[39;00m i, line \u001b[38;5;129;01min\u001b[39;00m \u001b[38;5;28menumerate\u001b[39m(lines):\n",
      "\u001b[0;31mFileNotFoundError\u001b[0m: [Errno 2] No such file or directory: 'embeddings_0.3_200_1_timelines.txt'"
     ]
    }
   ],
   "source": [
    "cogcomp = models.CogCompTime2()"
   ]
  },
  {
   "cell_type": "code",
   "execution_count": null,
   "id": "6d0f6c2c-9ea4-4d38-8e88-63cdb24a1602",
   "metadata": {},
   "outputs": [],
   "source": []
  }
 ],
 "metadata": {
  "kernelspec": {
   "display_name": "Python 3 (ipykernel)",
   "language": "python",
   "name": "python3"
  },
  "language_info": {
   "codemirror_mode": {
    "name": "ipython",
    "version": 3
   },
   "file_extension": ".py",
   "mimetype": "text/x-python",
   "name": "python",
   "nbconvert_exporter": "python",
   "pygments_lexer": "ipython3",
   "version": "3.8.10"
  }
 },
 "nbformat": 4,
 "nbformat_minor": 5
}
