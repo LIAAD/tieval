{
 "cells": [
  {
   "cell_type": "code",
   "execution_count": 1,
   "id": "feb82aa8-e35d-4bcf-b2f4-f2aeab1c2f85",
   "metadata": {},
   "outputs": [],
   "source": [
    "import tieval.datasets"
   ]
  },
  {
   "cell_type": "code",
   "execution_count": 6,
   "id": "f62e8827-6649-446b-ba3e-c900f40b3873",
   "metadata": {},
   "outputs": [
    {
     "name": "stderr",
     "output_type": "stream",
     "text": [
      "100%|██████████████████████████████████████████| 72/72 [00:00<00:00, 181.10it/s]\n",
      "100%|████████████████████████████████████████| 183/183 [00:00<00:00, 499.74it/s]\n",
      "100%|█████████████████████████████████████████| 103/103 [00:18<00:00,  5.59it/s]\n",
      "100%|████████████████████████████████████████| 275/275 [00:00<00:00, 352.59it/s]\n",
      "100%|█████████████████████████████████████████| 120/120 [00:01<00:00, 90.38it/s]\n",
      "100%|█████████████████████████████████████████| 120/120 [00:01<00:00, 78.91it/s]\n",
      "100%|████████████████████████████████████████| 120/120 [00:01<00:00, 110.82it/s]\n",
      "100%|█████████████████████████████████████████| 120/120 [00:01<00:00, 81.12it/s]\n",
      "100%|██████████████████████████████████████████| 20/20 [00:00<00:00, 212.21it/s]\n",
      "100%|██████████████████████████████████████████| 25/25 [00:00<00:00, 304.21it/s]\n",
      "100%|████████████████████████████████████████| 183/183 [00:00<00:00, 391.01it/s]\n",
      "100%|██████████████████████████████████████████| 52/52 [00:00<00:00, 256.03it/s]\n",
      "100%|████████████████████████████████████████| 173/173 [00:00<00:00, 613.82it/s]\n",
      "100%|█████████████████████████████████████████| 83/83 [00:00<00:00, 1325.33it/s]\n",
      "100%|██████████████████████████████████████████| 59/59 [00:00<00:00, 332.66it/s]\n",
      "100%|██████████████████████████████████████████| 18/18 [00:00<00:00, 340.58it/s]\n",
      "100%|████████████████████████████████████████| 193/193 [00:00<00:00, 432.87it/s]\n",
      "100%|████████████████████████████████████████| 275/275 [00:00<00:00, 345.52it/s]\n",
      "100%|████████████████████████████████████████| 183/183 [00:00<00:00, 362.88it/s]\n",
      "100%|████████████████████████████████████████| 183/183 [00:00<00:00, 378.80it/s]\n",
      "100%|████████████████████████████████████████| 182/182 [00:00<00:00, 442.01it/s]\n",
      "100%|████████████████████████████████████████| 183/183 [00:00<00:00, 429.88it/s]\n",
      "100%|████████████████████████████████████████| 175/175 [00:00<00:00, 293.23it/s]\n"
     ]
    }
   ],
   "source": [
    "statistics = []\n",
    "for dataset_name in tieval.datasets.SUPPORTED_DATASETS:\n",
    "    dataset = tieval.datasets.read(dataset_name)\n",
    "    \n",
    "    n_docs = len(dataset.documents)\n",
    "    n_events = sum(len(doc.events) for doc in dataset.documents)\n",
    "    n_timexs = sum(len(doc.timexs) for doc in dataset.documents)\n",
    "    n_tlinks = sum(len(doc.tlinks) for doc in dataset.documents if doc.tlinks)\n",
    "    statistics += [(dataset.name, n_docs, n_events, n_timexs, n_tlinks)]"
   ]
  },
  {
   "cell_type": "code",
   "execution_count": 13,
   "id": "1cecf253-ff63-4f8c-8ba4-f7e1314c3742",
   "metadata": {},
   "outputs": [
    {
     "name": "stdout",
     "output_type": "stream",
     "text": [
      "Aquaint & 72 & 4351 & 639 & 5832 \\\\ \n",
      "Eventtime & 36 & 1498 & 0 & 0 \\\\ \n",
      "Grapheve & 103 & 4298 & 0 & 18204 \\\\ \n",
      "Matres & 274 & 6065 & 0 & 13504 \\\\ \n",
      "Meantime_english & 120 & 2107 & 368 & 1761 \\\\ \n",
      "Meantime_spanish & 120 & 2225 & 360 & 2007 \\\\ \n",
      "Meantime_dutch & 120 & 1510 & 360 & 1492 \\\\ \n",
      "Meantime_italian & 120 & 2208 & 356 & 1683 \\\\ \n",
      "Platinum & 20 & 748 & 158 & 929 \\\\ \n",
      "Tcr & 25 & 1134 & 242 & 3515 \\\\ \n",
      "Tddiscourse & 34 & 1101 & 0 & 6150 \\\\ \n",
      "Tempeval_2_chinese & 52 & 4783 & 999 & 7802 \\\\ \n",
      "Tempeval_2_english & 173 & 6158 & 1473 & 5430 \\\\ \n",
      "Tempeval_2_french & 83 & 1301 & 367 & 372 \\\\ \n",
      "Tempeval_2_italian & 59 & 5063 & 696 & 6468 \\\\ \n",
      "Tempeval_2_korean & 18 & 2583 & 335 & 0 \\\\ \n",
      "Tempeval_2_spanish & 193 & 11559 & 1586 & 12408 \\\\ \n",
      "Tempeval_3 & 275 & 11780 & 2223 & 11881 \\\\ \n",
      "Timebank_1.2 & 183 & 7940 & 1414 & 6413 \\\\ \n",
      "Timebank_dense & 36 & 1712 & 289 & 12715 \\\\ \n",
      "Timebankpt & 182 & 7887 & 1409 & 6538 \\\\ \n",
      "Timebank & 183 & 6681 & 1426 & 5120 \\\\ \n",
      "Traint3 & 175 & 10686 & 1269 & 17283 \\\\ \n"
     ]
    }
   ],
   "source": [
    "for name, n_docs, n_events, n_timexs, n_tlinks in statistics:\n",
    "    print(f\"{name.capitalize()} & {n_docs} & {n_events} & {n_timexs} & {n_tlinks} \\\\\\\\ \")"
   ]
  },
  {
   "cell_type": "code",
   "execution_count": null,
   "id": "7a39c2b7-f0bd-4256-b892-58185e09beb4",
   "metadata": {},
   "outputs": [],
   "source": []
  }
 ],
 "metadata": {
  "kernelspec": {
   "display_name": "Python 3 (ipykernel)",
   "language": "python",
   "name": "python3"
  },
  "language_info": {
   "codemirror_mode": {
    "name": "ipython",
    "version": 3
   },
   "file_extension": ".py",
   "mimetype": "text/x-python",
   "name": "python",
   "nbconvert_exporter": "python",
   "pygments_lexer": "ipython3",
   "version": "3.8.10"
  }
 },
 "nbformat": 4,
 "nbformat_minor": 5
}
